{
  "cells": [
    {
      "cell_type": "code",
      "execution_count": 119,
      "metadata": {
        "id": "rqzwHrIw-raW"
      },
      "outputs": [],
      "source": [
        "import os\n",
        "import numpy as np\n",
        "import time\n",
        "import tensorflow as tf\n",
        "from sklearn.metrics import accuracy_score\n",
        "import matplotlib.pyplot as plt\n",
        "\n",
        "my_seed = 23753\n",
        "np.random.seed(my_seed)\n",
        "tf.random.set_seed(my_seed)"
      ]
    },
    {
      "cell_type": "code",
      "execution_count": 120,
      "metadata": {
        "id": "1c1ibB96-zIn"
      },
      "outputs": [],
      "source": [
        "from keras.datasets import mnist\n",
        "(X_train, y_train), (X_test, y_test) = mnist.load_data()\n",
        "\n",
        "# To use fashion_mnist uncomment the next two lines.\n",
        "# from keras.datasets import fashion_mnist\n",
        "# (X_train, y_train), (X_test, y_test) = fashion_mnist.load_data()"
      ]
    },
    {
      "cell_type": "code",
      "execution_count": 121,
      "metadata": {
        "colab": {
          "base_uri": "https://localhost:8080/"
        },
        "id": "KiIK_hbE-3hh",
        "outputId": "92f2d149-fa60-4eb4-9fb2-89347316a835"
      },
      "outputs": [
        {
          "output_type": "stream",
          "name": "stdout",
          "text": [
            "Train dimension:\n",
            "(60000, 784)\n",
            "Test dimension:\n",
            "(10000, 784)\n"
          ]
        }
      ],
      "source": [
        "# normalize x\n",
        "X_train = X_train.astype(float) / 255.\n",
        "X_test = X_test.astype(float) / 255.\n",
        "X_train = X_train.reshape((X_train.shape[0],X_train.shape[1]*X_train.shape[2]))\n",
        "X_test = X_test.reshape((X_test.shape[0],X_test.shape[1]*X_test.shape[2]))\n",
        "print('Train dimension:');print(X_train.shape)\n",
        "print('Test dimension:');print(X_test.shape)"
      ]
    },
    {
      "cell_type": "code",
      "execution_count": 122,
      "metadata": {
        "colab": {
          "base_uri": "https://localhost:8080/"
        },
        "id": "x-RcAdbz_rWX",
        "outputId": "3d40fc4a-b233-438c-a1c8-cab65a8ccf30"
      },
      "outputs": [
        {
          "output_type": "stream",
          "name": "stdout",
          "text": [
            "Train labels dimension:\n",
            "(60000, 10)\n",
            "Test labels dimension:\n",
            "(10000, 10)\n"
          ]
        }
      ],
      "source": [
        "from sklearn import preprocessing\n",
        "# Define the One-hot Encoder\n",
        "ohe = preprocessing.OneHotEncoder()\n",
        "# Reshape data\n",
        "y_train = y_train.reshape(-1, 1)\n",
        "y_test = y_test.reshape(-1, 1)\n",
        "\n",
        "# Fit and transform training data\n",
        "ohe.fit(y_train)\n",
        "y_train = ohe.transform(y_train).toarray()\n",
        "\n",
        "# Fit and transform testing data\n",
        "ohe.fit(y_test)\n",
        "y_test = ohe.transform(y_test).toarray()\n",
        "\n",
        "print('Train labels dimension:');print(y_train.shape)\n",
        "print('Test labels dimension:');print(y_test.shape)"
      ]
    },
    {
      "cell_type": "code",
      "execution_count": 123,
      "metadata": {
        "id": "CwNtnyZS_83q"
      },
      "outputs": [],
      "source": [
        "size_input = 784\n",
        "size_hidden1 = 512\n",
        "size_hidden2 = 256\n",
        "size_output = 10"
      ]
    },
    {
      "cell_type": "code",
      "execution_count": 124,
      "metadata": {
        "id": "42wLFJrd__rM"
      },
      "outputs": [],
      "source": [
        "# Split dataset into batches\n",
        "#train_ds = tf.data.Dataset.from_tensor_slices((X_train, y_train)).batch(128)\n",
        "test_ds = tf.data.Dataset.from_tensor_slices((X_test, y_test)).batch(32)"
      ]
    },
    {
      "cell_type": "code",
      "execution_count": 125,
      "metadata": {
        "id": "unf5qVHCAMWu"
      },
      "outputs": [],
      "source": [
        "# Define class to build mlp model\n",
        "class MLP(object):\n",
        "  def __init__(self, size_input, size_hidden1, size_hidden2, size_output, device=None):\n",
        "    \"\"\"\n",
        "    size_input: int, size of input layer\n",
        "    size_hidden1: int, size of hidden layer 1\n",
        "    size_hidden2: int, size of hidden layer 2\n",
        "    size_output: int, size of output layer\n",
        "    device: str or None, either 'cpu' or 'gpu' or None. If None, the device to be used will be decided automatically during Eager Execution\n",
        "    \"\"\"\n",
        "    self.size_input, self.size_hidden1, self.size_hidden2, self.size_output, self.device =\\\n",
        "    size_input, size_hidden1, size_hidden2, size_output, device\n",
        "    \n",
        "    # # Initialize weights between input layer and hidden layer\n",
        "    # self.W0 = tf.Variable(tf.random.normal([self.size_input, self.size_input_layer]))\n",
        "    # # Initialize biases for hidden layer\n",
        "    # self.b0 = tf.Variable(tf.random.normal([1, self.size_input_layer]))\n",
        "\n",
        "    # Initialize weights between input layer and hidden layer\n",
        "    self.W1 = tf.Variable(tf.random.normal([self.size_input, self.size_hidden1]))\n",
        "    # Initialize biases for hidden layer\n",
        "    self.b1 = tf.Variable(tf.random.normal([1, self.size_hidden1]))\n",
        "\n",
        "    # Initialize weights between hidden layer and output layer\n",
        "    self.W2 = tf.Variable(tf.random.normal([self.size_hidden1, self.size_hidden2]))\n",
        "    # Initialize biases for output layer\n",
        "    self.b2 = tf.Variable(tf.random.normal([1, self.size_hidden2]))\n",
        "\n",
        "    # Initialize weights between hidden layer and output layer\n",
        "    self.W3 = tf.Variable(tf.random.normal([self.size_hidden2, self.size_output]))\n",
        "    # Initialize biases for output layer\n",
        "    self.b3 = tf.Variable(tf.random.normal([1, self.size_output]))\n",
        "\n",
        "    \n",
        "    # Define variables to be updated during backpropagation\n",
        "    self.variables = [self.W1, self.W2, self.W3, self.b1, self.b2, self.b3]\n",
        "\n",
        "  def forward(self, X):\n",
        "    \"\"\"\n",
        "    forward pass\n",
        "    X: Tensor, inputs\n",
        "    \"\"\"\n",
        "    if self.device is not None:\n",
        "      with tf.device('gpu:0' if self.device=='gpu' else 'cpu'):\n",
        "        self.y = self.compute_output(X)\n",
        "    else:\n",
        "      self.y = self.compute_output(X)\n",
        "      \n",
        "    return self.y\n",
        "\n",
        "  def loss(self, y_pred, y_true):\n",
        "    '''\n",
        "    y_pred - Tensor of shape (batch_size, size_output)\n",
        "    y_true - Tensor of shape (batch_size, size_output)\n",
        "    '''\n",
        "    y_true_tf = tf.cast(tf.reshape(y_true, (-1, self.size_output)), dtype=tf.float32)\n",
        "    #y_pred_tf = tf.cast(tf.reshape(y_pred, (-1, self.size_output)), dtype=tf.float32)\n",
        "    y_pred_tf = tf.cast(y_pred, dtype=tf.float32)\n",
        "    cce = tf.keras.losses.CategoricalCrossentropy()\n",
        "    loss = cce(y_true_tf, y_pred_tf)\n",
        "    l2_penalty = 0.001 * ((tf.reduce_sum(tf.square(self.W1)) + tf.reduce_sum(tf.square(self.W2)) + tf.reduce_sum(tf.square(self.W3)))/3)\n",
        "    #Uncomment to add L2 Penalty\n",
        "    #return loss + l2_penalty\n",
        "    return loss\n",
        "\n",
        "  def backward(self, X_train, y_train):\n",
        "    \"\"\"\n",
        "    backward pass\n",
        "    \"\"\"\n",
        "    optimizer = tf.keras.optimizers.SGD(learning_rate=6e-2)\n",
        "    with tf.GradientTape() as tape:\n",
        "      predicted = self.forward(X_train)\n",
        "      current_loss = self.loss(predicted, y_train)\n",
        "    grads = tape.gradient(current_loss, self.variables)\n",
        "    optimizer.apply_gradients(zip(grads, self.variables))\n",
        "\n",
        "  def compute_output(self, X):\n",
        "    \"\"\"\n",
        "    Custom method to obtain output tensor during forward pass\n",
        "    \"\"\"\n",
        "    keep_prob = 0.3\n",
        "    # Cast X to float32\n",
        "    X_tf = tf.cast(X, dtype=tf.float32)\n",
        "    #Remember to normalize your dataset before moving forward\n",
        "    \n",
        "    # # Compute values in input layer\n",
        "    # what0 = tf.matmul(X_tf, self.W0) + self.b0\n",
        "    # hhat0 = tf.nn.relu(what0)\n",
        "    # hhat00 = tf.nn.dropout(hhat0, keep_prob)\n",
        "\n",
        "    # Compute values in hidden layer 1\n",
        "    what1 = tf.matmul(X_tf, self.W1) + self.b1\n",
        "    hhat1 = tf.nn.relu(what1)\n",
        "    #Uncomment to add dropout\n",
        "    #hhat11 = tf.nn.dropout(hhat1, keep_prob)\n",
        "    hhat11 = hhat1\n",
        "\n",
        "    # Compute values in hidden layer 2\n",
        "    what2 = tf.matmul(hhat11, self.W2) + self.b2\n",
        "    hhat2 = tf.nn.relu(what2)\n",
        "    #Uncomment to add dropout\n",
        "    #hhat22 = tf.nn.dropout(hhat2, keep_prob)\n",
        "    hhat22 = hhat2\n",
        "\n",
        "    # Compute output\n",
        "    output = tf.matmul(hhat22, self.W3) + self.b3\n",
        "    op = tf.nn.softmax(output)\n",
        "\n",
        "    #Now consider two things , First look at inbuild loss functions if they work with softmax or not and then change this\n",
        "    #Second add tf.Softmax(output) and then return this variable\n",
        "    return op\n",
        "\n",
        "  def accuracy(self, y_pred, y_true):\n",
        "    '''\n",
        "    y_pred - Tensor of shape (batch_size, size_output)\n",
        "    y_true - Tensor of shape (batch_size, size_output)\n",
        "    '''\n",
        "    y_true_tf = tf.cast(tf.reshape(y_true, (-1, self.size_output)), dtype=tf.float32)\n",
        "    y_pred_tf = tf.cast(tf.reshape(y_pred, (-1, self.size_output)), dtype=tf.float32)\n",
        "    correct_pred = tf.equal(tf.argmax(y_true, 1), tf.argmax(y_pred, 1))\n",
        "    accuracy = tf.reduce_mean(tf.cast(correct_pred, tf.float32), name='accuracy')\n",
        "    return accuracy"
      ]
    },
    {
      "cell_type": "code",
      "execution_count": 126,
      "metadata": {
        "id": "NX6Ut_PsBgjz"
      },
      "outputs": [],
      "source": [
        "# Set number of epochs\n",
        "NUM_EPOCHS = 30"
      ]
    },
    {
      "cell_type": "code",
      "execution_count": 127,
      "metadata": {
        "colab": {
          "base_uri": "https://localhost:8080/"
        },
        "id": "7kUvilK7BjIg",
        "outputId": "596b278a-bbef-4ec9-a63a-7cbd8c405cd8"
      },
      "outputs": [
        {
          "output_type": "stream",
          "name": "stdout",
          "text": [
            "Number of Epoch = 1 - Average loss:= 0.3166638671875 - Accuracy:= 0.25358328223228455\n",
            "Number of Epoch = 2 - Average loss:= 0.3108456380208333 - Accuracy:= 0.38259994983673096\n",
            "Number of Epoch = 3 - Average loss:= 0.30740009765625 - Accuracy:= 0.42386671900749207\n",
            "Number of Epoch = 4 - Average loss:= 0.30408190104166666 - Accuracy:= 0.4607832431793213\n",
            "Number of Epoch = 5 - Average loss:= 0.2998575846354167 - Accuracy:= 0.5325832962989807\n",
            "Number of Epoch = 6 - Average loss:= 0.2961735026041667 - Accuracy:= 0.5846498608589172\n",
            "Number of Epoch = 7 - Average loss:= 0.29300641276041667 - Accuracy:= 0.6183501482009888\n",
            "Number of Epoch = 8 - Average loss:= 0.29051422526041665 - Accuracy:= 0.6276001334190369\n",
            "Number of Epoch = 9 - Average loss:= 0.287590234375 - Accuracy:= 0.6532666087150574\n",
            "Number of Epoch = 10 - Average loss:= 0.28512145182291665 - Accuracy:= 0.6630833148956299\n",
            "Number of Epoch = 11 - Average loss:= 0.28214560546875 - Accuracy:= 0.6921166777610779\n",
            "Number of Epoch = 12 - Average loss:= 0.27955813802083335 - Accuracy:= 0.7072334289550781\n",
            "Number of Epoch = 13 - Average loss:= 0.27612294921875 - Accuracy:= 0.7549667358398438\n",
            "Number of Epoch = 14 - Average loss:= 0.2734160807291667 - Accuracy:= 0.7760832905769348\n",
            "Number of Epoch = 15 - Average loss:= 0.270930224609375 - Accuracy:= 0.7897000908851624\n",
            "Number of Epoch = 16 - Average loss:= 0.268696630859375 - Accuracy:= 0.7942834496498108\n",
            "Number of Epoch = 17 - Average loss:= 0.266469921875 - Accuracy:= 0.7993667125701904\n",
            "Number of Epoch = 18 - Average loss:= 0.2642994954427083 - Accuracy:= 0.8028833866119385\n",
            "Number of Epoch = 19 - Average loss:= 0.26220774739583336 - Accuracy:= 0.8041332364082336\n",
            "Number of Epoch = 20 - Average loss:= 0.260040673828125 - Accuracy:= 0.8091000318527222\n",
            "Number of Epoch = 21 - Average loss:= 0.257826806640625 - Accuracy:= 0.8158000707626343\n",
            "Number of Epoch = 22 - Average loss:= 0.2557224772135417 - Accuracy:= 0.8194332122802734\n",
            "Number of Epoch = 23 - Average loss:= 0.2536700846354167 - Accuracy:= 0.8216167688369751\n",
            "Number of Epoch = 24 - Average loss:= 0.251779638671875 - Accuracy:= 0.8183834552764893\n",
            "Number of Epoch = 25 - Average loss:= 0.24963323567708334 - Accuracy:= 0.8250998854637146\n",
            "Number of Epoch = 26 - Average loss:= 0.24778177083333333 - Accuracy:= 0.8214996457099915\n",
            "Number of Epoch = 27 - Average loss:= 0.24578645833333335 - Accuracy:= 0.8239665031433105\n",
            "Number of Epoch = 28 - Average loss:= 0.24371956380208334 - Accuracy:= 0.8294002413749695\n",
            "Number of Epoch = 29 - Average loss:= 0.24185055338541667 - Accuracy:= 0.8281832933425903\n",
            "Number of Epoch = 30 - Average loss:= 0.23983865559895834 - Accuracy:= 0.832883358001709\n",
            "\n",
            "Total time taken (in seconds): 283.39\n"
          ]
        }
      ],
      "source": [
        "mlp = MLP(size_input, size_hidden1, size_hidden2, size_output, device='gpu')\n",
        "time_start = time.time()\n",
        "loss_list = []\n",
        "acc_list = []\n",
        "for epoch in range(NUM_EPOCHS):\n",
        "  loss_total = tf.zeros([1,1], dtype=tf.float32)\n",
        "  lt = 0\n",
        "  acc = 0\n",
        "  count = 0\n",
        "  train_ds = tf.data.Dataset.from_tensor_slices((X_train, y_train)).shuffle(32, seed=epoch*(my_seed)).batch(600)\n",
        "  for inputs, outputs in train_ds:\n",
        "    preds = mlp.forward(inputs)\n",
        "    loss_total = loss_total + mlp.loss(preds, outputs)\n",
        "    lt = lt + mlp.loss(preds, outputs)\n",
        "    mlp.backward(inputs, outputs)\n",
        "    acc = acc + mlp.accuracy(preds, outputs)\n",
        "    count += 1\n",
        "\n",
        "  loss_list.append(np.sum(loss_total * 100) / X_train.shape[0])\n",
        "  acc_list.append(acc/count*100)\n",
        "  print('Number of Epoch = {} - Average loss:= {} - Accuracy:= {}'.format(epoch + 1, np.sum(loss_total) / X_train.shape[0], acc/count))\n",
        "time_taken = time.time() - time_start\n",
        "print('\\nTotal time taken (in seconds): {:.2f}'.format(time_taken))\n",
        "# For per epoch_time = Total_Time / Number_of_epochs\n",
        "\n"
      ]
    },
    {
      "cell_type": "code",
      "source": [
        "# plot lines\n",
        "plt.plot(loss_list, label = \"line 1\")\n",
        "plt.plot(acc_list, label = \"line 2\")\n",
        "plt.legend()\n",
        "plt.show()"
      ],
      "metadata": {
        "id": "vJm0L7F0OFUp",
        "colab": {
          "base_uri": "https://localhost:8080/",
          "height": 265
        },
        "outputId": "8b0c0a70-3d01-472f-c01a-2e5445ac793d"
      },
      "execution_count": 128,
      "outputs": [
        {
          "output_type": "display_data",
          "data": {
            "image/png": "[encoded data removed]",
            "text/plain": [
              "<Figure size 432x288 with 1 Axes>"
            ]
          },
          "metadata": {
            "needs_background": "light"
          }
        }
      ]
    },
    {
      "cell_type": "code",
      "source": [
        "test_loss_total = tf.Variable(0, dtype=tf.float32)\n",
        "#test_loss_total = 0.0\n",
        "acc, n = 0, 0\n",
        "for inputs, outputs in test_ds:\n",
        "  preds = mlp.forward(inputs)\n",
        "  #b = mlp_on_default.loss(preds, outputs)\n",
        "  test_loss_total = test_loss_total + mlp.loss(preds, outputs)\n",
        "  acc = acc + mlp.accuracy(preds, outputs)\n",
        "  n+=1\n",
        "  \n",
        "# a = (test_loss_total.numpy() / X_train.shape[0])\n",
        "# print(X_train.shape[0])\n",
        "# print(test_loss_total.numpy())\n",
        "# print(b)\n",
        "print('Test loss: {:.4f}'.format(np.sum(test_loss_total.numpy()) / X_train.shape[0]))\n",
        "print(acc/n)"
      ],
      "metadata": {
        "id": "pBUtS2oPSKne",
        "colab": {
          "base_uri": "https://localhost:8080/"
        },
        "outputId": "0f1a4af9-03bc-4639-9286-6501530ba8e3"
      },
      "execution_count": 130,
      "outputs": [
        {
          "output_type": "stream",
          "name": "stdout",
          "text": [
            "Test loss: 0.7474\n",
            "tf.Tensor(0.83666134, shape=(), dtype=float32)\n"
          ]
        }
      ]
    }
  ],
  "metadata": {
    "colab": {
      "name": "IST597_HW2_Ajay.ipynb",
      "provenance": []
    },
    "kernelspec": {
      "display_name": "Python 3",
      "name": "python3"
    },
    "language_info": {
      "name": "python"
    }
  },
  "nbformat": 4,
  "nbformat_minor": 0
}