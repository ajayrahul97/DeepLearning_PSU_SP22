{
  "cells": [
    {
      "cell_type": "code",
      "execution_count": 1,
      "metadata": {
        "id": "_iYcla4kCX67"
      },
      "outputs": [],
      "source": [
        "import os\n",
        "import numpy as np\n",
        "import time\n",
        "import tensorflow as tf\n",
        "from tensorflow import keras\n",
        "\n",
        "import matplotlib.pyplot as plt\n",
        "\n",
        "my_seed = 1234\n",
        "np.random.seed(my_seed)\n",
        "tf.random.set_seed(my_seed)"
      ]
    },
    {
      "cell_type": "code",
      "execution_count": 2,
      "metadata": {
        "id": "Kgna3kY6CX67",
        "colab": {
          "base_uri": "https://localhost:8080/"
        },
        "outputId": "2705018c-8b00-4613-ec84-39883cc9edf4"
      },
      "outputs": [
        {
          "output_type": "execute_result",
          "data": {
            "text/plain": [
              "[]"
            ]
          },
          "metadata": {},
          "execution_count": 2
        }
      ],
      "source": [
        "tf.config.list_physical_devices('GPU')"
      ]
    },
    {
      "cell_type": "code",
      "execution_count": 3,
      "metadata": {
        "id": "JodgHy9nCX68",
        "colab": {
          "base_uri": "https://localhost:8080/",
          "height": 220
        },
        "outputId": "125d5dbe-419b-4a7d-d4bd-b4024d3fc1e3"
      },
      "outputs": [
        {
          "output_type": "stream",
          "name": "stdout",
          "text": [
            "Downloading data from https://storage.googleapis.com/tensorflow/tf-keras-datasets/mnist.npz\n",
            "11493376/11490434 [==============================] - 0s 0us/step\n",
            "11501568/11490434 [==============================] - 0s 0us/step\n"
          ]
        },
        {
          "output_type": "display_data",
          "data": {
            "image/png": "[encoded data removed]",
            "text/plain": [
              "<Figure size 432x288 with 3 Axes>"
            ]
          },
          "metadata": {
            "needs_background": "light"
          }
        }
      ],
      "source": [
        "(X_train, y_train), (X_test, y_test) = keras.datasets.mnist.load_data() # Load MNIST or FMNIST\n",
        "#(X_train, y_train), (X_test, y_test) = keras.datasets.fashion_mnist.load_data() # Load MNIST or FMNIST\n",
        "assert X_train.shape == (60000, 28, 28)\n",
        "assert X_test.shape == (10000, 28, 28)\n",
        "assert y_train.shape == (60000,)\n",
        "assert y_test.shape == (10000,)\n",
        "\n",
        "\n",
        "# Display randomly selected data\n",
        "indices = list(np.random.randint(X_train.shape[0],size=3))\n",
        "for i in range(3):\n",
        "    plt.subplot(1,3,i+1)\n",
        "    plt.imshow(X_train[indices[i]].reshape(28,28), cmap='gray', interpolation='none')\n",
        "    plt.title(\"Index {} Class {}\".format(indices[i], y_train[indices[i]]))\n",
        "    plt.tight_layout()"
      ]
    },
    {
      "cell_type": "markdown",
      "source": [
        "# Important\n",
        "* Always have a validation set, the procedure to create validation or dev set is by performing random sample without replacement on train set and then only using that fraction as dev set. \n",
        "* Simple approach is to set some K samples, you can extract them from start, mid or end.\n",
        "* Imagine validation set that partially approximates test set distribution and we assume our model would produce identical results when we test it on test set.\n",
        "* Always optimize your hyperparameters by looking at performance on validation set and not test set.\n",
        "* Do not touch test set, we have this to test how our model would work on unseen data."
      ],
      "metadata": {
        "id": "PowjAHuw-wm7"
      }
    },
    {
      "cell_type": "code",
      "execution_count": 4,
      "metadata": {
        "id": "oIRI-uLoCX69",
        "colab": {
          "base_uri": "https://localhost:8080/"
        },
        "outputId": "0d682292-32ba-4a7f-cd1f-f60e5c87dabb"
      },
      "outputs": [
        {
          "output_type": "stream",
          "name": "stdout",
          "text": [
            "size of training set is 50000 samples\n",
            "every train example is 28 by 28\n",
            "size of validation set is 10000 samples\n",
            "every validation example is 28 by 28\n",
            "size of training set is 50000 samples\n",
            "every train example has 784 features\n",
            "size of validation set is 10000 samples\n",
            "every validation example has 784 features\n"
          ]
        }
      ],
      "source": [
        "# Split train dataset into train and validation\n",
        "X_val = X_train[50000:60000]\n",
        "X_train = X_train[0:50000]\n",
        "y_val = y_train[50000:60000]\n",
        "y_train = y_train[0:50000]\n",
        "\n",
        "print(\"size of training set is\", str(X_train.shape[0]), \"samples\")\n",
        "print(\"every train example is\", str(X_train.shape[1]), \"by\", str(X_train.shape[2]))\n",
        "\n",
        "print(\"size of validation set is\", str(X_val.shape[0]), \"samples\")\n",
        "print(\"every validation example is\", str(X_val.shape[1]), \"by\", str(X_val.shape[2]))\n",
        "\n",
        "X_train = X_train.reshape(50000, 28*28)\n",
        "X_val = X_val.reshape(10000, 28*28)\n",
        "X_test = X_test.reshape(10000, 28*28)\n",
        "\n",
        "print(\"size of training set is\", str(X_train.shape[0]), \"samples\")\n",
        "print(\"every train example has\", str(X_train.shape[1]), \"features\")\n",
        "\n",
        "print(\"size of validation set is\", str(X_val.shape[0]), \"samples\")\n",
        "print(\"every validation example has\", str(X_val.shape[1]), \"features\")\n",
        "\n",
        "# Split dataset into batches\n",
        "#train_ds = tf.data.Dataset.from_tensor_slices((X_train, y_train)).batch(16)\n",
        "#test_ds = tf.data.Dataset.from_tensor_slices((X_test, y_test)).batch(4)"
      ]
    },
    {
      "cell_type": "markdown",
      "source": [
        "# Points to remember\n",
        "* If using any type of neural network, normalize your input between 0-1.\n",
        "* One can use various procedures to achieve this, divide by largest value (for images we use 255), subtract mean from data and then normalize, one can even augment them and use other steps for normalization.\n",
        "* Normalization is important step, one could observe significant boost in performance just by having better normalization scheme.\n",
        "* For targets we always use one-hot encodings."
      ],
      "metadata": {
        "id": "VdMEIaFKAscU"
      }
    },
    {
      "cell_type": "code",
      "execution_count": 5,
      "metadata": {
        "id": "mDyZ8bZjCX69",
        "colab": {
          "base_uri": "https://localhost:8080/"
        },
        "outputId": "996dc7e1-cd03-4a45-a1a2-191f1973a564"
      },
      "outputs": [
        {
          "output_type": "execute_result",
          "data": {
            "text/plain": [
              "1.0"
            ]
          },
          "metadata": {},
          "execution_count": 5
        }
      ],
      "source": [
        "#Normalize Data\n",
        "\n",
        "X_train = X_train/255\n",
        "X_val = X_val/255\n",
        "X_test = X_test/255\n",
        "# X_train[0]\n",
        "np.max(X_train)"
      ]
    },
    {
      "cell_type": "code",
      "execution_count": 6,
      "metadata": {
        "id": "3lIIy313CX69",
        "colab": {
          "base_uri": "https://localhost:8080/"
        },
        "outputId": "0cb39bda-e6c3-4b01-e504-607772e28124"
      },
      "outputs": [
        {
          "output_type": "stream",
          "name": "stdout",
          "text": [
            "tf.Tensor([10000    10], shape=(2,), dtype=int32)\n"
          ]
        }
      ],
      "source": [
        "size_input = X_train.shape[1]\n",
        "size_hidden1 = 128\n",
        "size_hidden2 = 128\n",
        "size_hidden3 = 128\n",
        "size_output = 10\n",
        "\n",
        "number_of_train_examples = X_train.shape[0]\n",
        "number_of_test_examples = X_test.shape[0]\n",
        "\n",
        "y_train = tf.keras.utils.to_categorical(y_train, num_classes=10) # Other function is tf.one_hot(y_train,depth=10)\n",
        "y_val = tf.keras.utils.to_categorical(y_val, num_classes=10)\n",
        "y_test = tf.keras.utils.to_categorical(y_test, num_classes=10)\n",
        "print(tf.shape(y_val))"
      ]
    },
    {
      "cell_type": "markdown",
      "source": [
        "# Importance of weight initialization\n",
        "\n",
        "* One reason backprop based models can perform bettter lies with the weight initialization method, one important point one should remember is that, if yur weights are initialized to be too high or low, backprop would struggle.\n",
        "* Hence one should always carefully initialize weights of your model, below i have shown approach with random_normal, one can use random_uniform, truncated version of both, Xavier init and orthogonal. \n",
        "* You will find modern day NNs have achieved stable and better performance by simply switching to better init and majority of cases Xavier or Orthogonal works best.\n",
        "* Always initialize your bias using zero or some small constant (ideally 0.01 or less works better). We use bias to shift the activation and in some cases it can stabalize learning, but having large bias can cause negative results.\n",
        "\n",
        "# Loss function\n",
        "\n",
        "* We will always cross-entropy loss for classification.\n",
        "\n",
        "* tf softmax,\n",
        "loss= tf.reduce_mean(tf.nn.softmax_cross_entropy_with_logits(logits=y_pred_tf, labels=y_true_tf)), this function is simply saying that it will calculate softmax for you, simply provide logits to it. \n",
        "\n",
        "* In other output of your forward pass directly goes this function. Now this operator will calculate or apply softmax over prediction or logits and calculate cross-entropy between prediction and target. I am using reduce_mean since we apply this over batches.\n",
        "* Second is using keras\n",
        "Method 1 :- This function requires logits, hence same as above you will pass logits or output variable to this function. Now remember you need from_logits = True, for this to work.\n",
        "cce = tf.keras.losses.CategoricalCrossentropy(from_logits=True)\n",
        "loss_x = cce(y_true_tf, y_pred_tf) \n",
        "\n",
        "* Method 2:- In this we will apply softmax to output function and then pass to CCE loss.\n",
        "So the approach is \n",
        "output = tf.nn.softmax(output)\n",
        "cce = tf.keras.losses.CategoricalCrossentropy(from_logits=False)\n",
        "loss_x = cce(y_true_tf, y_pred_tf) "
      ],
      "metadata": {
        "id": "U7KCVarVCVPW"
      }
    },
    {
      "cell_type": "code",
      "execution_count": 7,
      "metadata": {
        "id": "obN7WPLpCX69"
      },
      "outputs": [],
      "source": [
        "# Define class to build mlp model\n",
        "class MLP(object):\n",
        " def __init__(self, size_input, size_hidden1, size_hidden2, size_hidden3, size_output, device=None):\n",
        "    \"\"\"\n",
        "    size_input: int, size of input layer\n",
        "    size_hidden1: int, size of the 1st hidden layer\n",
        "    size_hidden2: int, size of the 2nd hidden layer\n",
        "    size_output: int, size of output layer\n",
        "    device: str or None, either 'cpu' or 'gpu' or None. If None, the device to be used will be decided automatically during Eager Execution\n",
        "    \"\"\"\n",
        "    self.size_input, self.size_hidden1, self.size_hidden2, self.size_hidden3, self.size_output, self.device =\\\n",
        "    size_input, size_hidden1, size_hidden2, size_hidden3, size_output, device\n",
        "    \n",
        "    # Initialize weights between input mapping and a layer g(f(x)) = layer\n",
        "    self.W1 = tf.Variable(tf.random.normal([self.size_input, self.size_hidden1],stddev=0.1)) # Xavier(Fan-in fan-out) and Orthogonal\n",
        "    # Initialize biases for hidden layer\n",
        "    self.b1 = tf.Variable(tf.zeros([1, self.size_hidden1])) # 0 or constant(0.01)\n",
        "    \n",
        "    # Initialize weights between input layer and 1st hidden layer\n",
        "    self.W2 = tf.Variable(tf.random.normal([self.size_hidden1, self.size_hidden2],stddev=0.1))\n",
        "    # Initialize biases for hidden layer\n",
        "    self.b2 = tf.Variable(tf.zeros([1, self.size_hidden2]))\n",
        "    \n",
        "    # Initialize weights between 1st hidden layer and 2nd hidden layer\n",
        "    self.W3 = tf.Variable(tf.random.normal([self.size_hidden2, self.size_hidden3],stddev=0.1))\n",
        "    # Initialize biases for hidden layer\n",
        "    self.b3 = tf.Variable(tf.zeros([1, self.size_hidden3]))\n",
        "    \n",
        "     # Initialize weights between 2nd hidden layer and output layer\n",
        "    self.W4 = tf.Variable(tf.random.normal([self.size_hidden3, self.size_output],stddev=0.1))\n",
        "    # Initialize biases for output layer\n",
        "    self.b4 = tf.Variable(tf.zeros([1, self.size_output]))\n",
        "    \n",
        "    # Define variables to be updated during backpropagation\n",
        "    self.variables = [self.W1, self.W2, self.W3, self.W4, self.b1, self.b2, self.b3, self.b4]\n",
        "\n",
        "    #Initialize the moment vectors and time(steps)\n",
        "    #The moment vectors will basically have the same dimensions as the tensor variables in self.variables\n",
        "\n",
        "    self.t = 0\n",
        "    self.m_t = [tf.Variable(tf.zeros([self.size_input, self.size_hidden1])), tf.Variable(tf.zeros([self.size_hidden1, self.size_hidden2])), \\\n",
        "               tf.Variable(tf.zeros([self.size_hidden2, self.size_hidden3])), tf.Variable(tf.zeros([self.size_hidden3, self.size_output])),  \\\n",
        "               tf.Variable(tf.zeros([1, self.size_hidden1])), tf.Variable(tf.zeros([1, self.size_hidden2])), \\\n",
        "               tf.Variable(tf.zeros([1, self.size_hidden3])), tf.Variable(tf.zeros([1, self.size_output]))]\n",
        "    self.v_t = [tf.Variable(tf.zeros([self.size_input, self.size_hidden1])), tf.Variable(tf.zeros([self.size_hidden1, self.size_hidden2])), \\\n",
        "               tf.Variable(tf.zeros([self.size_hidden2, self.size_hidden3])), tf.Variable(tf.zeros([self.size_hidden3, self.size_output])),  \\\n",
        "               tf.Variable(tf.zeros([1, self.size_hidden1])), tf.Variable(tf.zeros([1, self.size_hidden2])), \\\n",
        "               tf.Variable(tf.zeros([1, self.size_hidden3])), tf.Variable(tf.zeros([1, self.size_output]))]\n",
        "    self.u_t = [tf.Variable(tf.zeros([self.size_input, self.size_hidden1])), tf.Variable(tf.zeros([self.size_hidden1, self.size_hidden2])), \\\n",
        "               tf.Variable(tf.zeros([self.size_hidden2, self.size_hidden3])), tf.Variable(tf.zeros([self.size_hidden3, self.size_output])),  \\\n",
        "               tf.Variable(tf.zeros([1, self.size_hidden1])), tf.Variable(tf.zeros([1, self.size_hidden2])), \\\n",
        "               tf.Variable(tf.zeros([1, self.size_hidden3])), tf.Variable(tf.zeros([1, self.size_output]))]\n",
        "  \n",
        " def forward(self, X, is_training=True):\n",
        "    \"\"\"\n",
        "    forward pass\n",
        "    X: Tensor, inputs\n",
        "    \"\"\"\n",
        "    if self.device is not None:\n",
        "      with tf.device('gpu:0' if self.device=='gpu' else 'cpu'):\n",
        "        self.y = self.compute_output(X, is_training)\n",
        "    else:\n",
        "      self.y = self.compute_output(X, is_training)\n",
        "      \n",
        "    return self.y\n",
        "\n",
        " def loss(self, y_pred, y_true):\n",
        "    '''\n",
        "    y_pred - Tensor of shape (batch_size, size_output)\n",
        "    y_true - Tensor of shape (batch_size, size_output)\n",
        "    '''\n",
        "    #y_true_tf = tf.cast(tf.reshape(y_true, (-1, self.size_output)), dtype=tf.float32)\n",
        "    y_true_tf = tf.cast(y_true, dtype=tf.float32)\n",
        "    y_pred_tf = tf.cast(y_pred, dtype=tf.float32)\n",
        "    cce = tf.keras.losses.CategoricalCrossentropy(from_logits=True)\n",
        "    loss_x = cce(y_true_tf, y_pred_tf)\n",
        "    # Use keras or tf_softmax, both should work for any given model\n",
        "    #loss_x = tf.reduce_mean(tf.nn.softmax_cross_entropy_with_logits(logits=y_pred_tf, labels=y_true_tf))\n",
        "\n",
        "    #Uncomment this block to apply L2 Regularization\n",
        "    # beta = 0.001\n",
        "    # l2_reg = tf.nn.l2_loss(self.W1) + tf.nn.l2_loss(self.W2) + tf.nn.l2_loss(self.W3) + tf.nn.l2_loss(self.W4)\n",
        "    # loss_x = tf.reduce_mean(loss_x + beta * l2_reg)\n",
        "    \n",
        "    return loss_x\n",
        "\n",
        "\n",
        " def backward(self, X_train, y_train, optimizer_type=1):\n",
        "    \"\"\"\n",
        "    backward pass with custom optimizer\n",
        "    Optimizer type\n",
        "    1 == Custom Optimizer\n",
        "    2 == SGD\n",
        "    3 == RMSProp\n",
        "    4 == Adam\n",
        "    \"\"\"\n",
        "\n",
        "    with tf.GradientTape() as tape:\n",
        "      predicted = self.forward(X_train)\n",
        "      current_loss = self.loss(predicted, y_train)\n",
        "    grads = tape.gradient(current_loss, self.variables)\n",
        "\n",
        "    if optimizer_type == 1:\n",
        "\n",
        "      alpha = 0.01\n",
        "      beta_1 = 0.9\n",
        "      beta_2 = 0.999\n",
        "      beta_3 = 0.999987\n",
        "      eps = 1e-8\n",
        "      \n",
        "      self.t += 1 \n",
        "      self.g_t = grads\n",
        "      #using zip for parallel iteration\n",
        "      self.m_t = [beta_1 * m + (1-beta_1) * g         for m,g in zip(self.m_t, self.g_t)]\n",
        "      self.v_t = [beta_2 * v + (1-beta_2) * pow(g, 2) for v,g in zip(self.v_t, self.g_t)]\n",
        "      self.u_t = [beta_3 * u + (1-beta_3) * pow(g, 3) for u,g in zip(self.u_t, self.g_t)]\n",
        "\n",
        "      m_hat = [m/(1-pow(beta_1, self.t)) for m in self.m_t]\n",
        "      v_hat = [v/(1-pow(beta_2, self.t)) for v in self.v_t]\n",
        "      u_hat = [u/(1-pow(beta_3, self.t)) for u in self.u_t]\n",
        "\n",
        "      # to avoid nan - i've added eps in the denominator - TODO : check other way to eliminate nan\n",
        "      # this might mess up the first iteration, but it should be alright for the following iterations\n",
        "\n",
        "      # I've taken abs of the term inside the cube root, because cube root of negative can turn out to be non real number sometimes\n",
        "\n",
        "      diff = [(alpha * m / (tf.sqrt(v) + (pow(abs(u), 0.33333) * eps) + eps) ) for m, v, u in zip(m_hat, v_hat, u_hat)]\n",
        "\n",
        "      theta_t = [theta -  d for theta, d in zip(self.variables, diff)]\n",
        "\n",
        "      # Now update the 8 variables\n",
        "      for i in range(8):\n",
        "        # self.variables[i] = theta_t[i]  --- this doesn't work ... why ?\n",
        "        self.variables[i].assign(theta_t[i])\n",
        "\n",
        "    elif optimizer_type == 2: # SGD\n",
        "      optimizer = tf.keras.optimizers.SGD(learning_rate = 0.1)\n",
        "      optimizer.apply_gradients(zip(grads, self.variables))\n",
        "\n",
        "    elif optimizer_type == 3: # RMSProp\n",
        "      optimizer = tf.keras.optimizers.RMSprop(learning_rate=0.001, rho=0.9, momentum=0.0, epsilon=1e-07, centered=False, name='RMSprop')\n",
        "      optimizer.apply_gradients(zip(grads, self.variables))\n",
        "\n",
        "    elif optimizer_type == 4: # Adam\n",
        "      optimizer = tf.keras.optimizers.Adam(learning_rate=0.001, beta_1=0.9, beta_2=0.999, epsilon=1e-07, amsgrad=False, name='Adam')\n",
        "      optimizer.apply_gradients(zip(grads, self.variables))\n",
        "\n",
        "\n",
        "           \n",
        " def compute_output(self, X, is_training=True):\n",
        "    \"\"\"\n",
        "    Custom method to obtain output tensor during forward pass\n",
        "    \"\"\"\n",
        "\n",
        "    #is_training is used to avoid dropout during test\n",
        "\n",
        "    # Cast X to float32\n",
        "    X_tf = tf.cast(X, dtype=tf.float32)\n",
        "    keep_prob = 0.00 # Keep a non-zero value to add dropout regularization.\n",
        "    # Compute values in hidden layers\n",
        "    z1 = tf.matmul(X_tf, self.W1) + self.b1\n",
        "    h1 = tf.nn.relu(z1)\n",
        "    if is_training:\n",
        "      h1 = tf.nn.dropout(h1, rate=keep_prob, seed = my_seed)\n",
        "    \n",
        "    z2 = tf.matmul(h1, self.W2) + self.b2\n",
        "    h2 = tf.nn.relu(z2)\n",
        "    if is_training:\n",
        "      h2 = tf.nn.dropout(h2, rate=keep_prob, seed = my_seed)\n",
        "\n",
        "    z3 = tf.matmul(h2, self.W3) + self.b3\n",
        "    h3 = tf.nn.relu(z3)\n",
        "    if is_training:\n",
        "      h3 = tf.nn.dropout(h3, rate=keep_prob, seed = my_seed)\n",
        "\n",
        "    # Compute output\n",
        "    output = tf.matmul(h3, self.W4) + self.b4\n",
        "    \n",
        "    #Now consider two things , First look at inbuild loss functions if they work with softmax or not and then change this \n",
        "    # Second add tf.Softmax(output) and then return this variable\n",
        "    return (output)\n",
        "\n",
        "#  def stderr(self,y_pred):\n",
        "#     \"\"\"\n",
        "#      Calculate standard error\n",
        "#      \"\"\"\n",
        "#     y_pred_tf = tf.cast(y_pred, dtype=tf.float32)\n",
        "#     std_dev = np.std(y_pred_tf) #Calculates standard deviation\n",
        "#     std_err = std_dev/sqrt(len(y_pred_tf))\n",
        "#     return std_err \n",
        "\n",
        "\n",
        "#  def var(self,y_pred):\n",
        "#     \"\"\"\n",
        "#      Calculate variance \n",
        "#      \"\"\"\n",
        "#     y_pred_tf = tf.cast(y_pred, dtype=tf.float32)\n",
        "#     std_dev = np.std(y_pred_tf) #Calculates standard deviation\n",
        "#     variance = (std_dev**2) # calculate variance\n",
        "#     return variance \n",
        "\n"
      ]
    },
    {
      "cell_type": "code",
      "execution_count": 8,
      "metadata": {
        "colab": {
          "base_uri": "https://localhost:8080/",
          "height": 1000
        },
        "id": "pOnhvVlUCX6-",
        "outputId": "93261c6f-a51a-457f-f1e3-e3962d62aee8"
      },
      "outputs": [
        {
          "output_type": "stream",
          "name": "stdout",
          "text": [
            "\n",
            "Train Accuracy: 0.9458\n",
            "Number of Epoch = 1 - Average Cross Entropy:= 0.0023681134033203123 \n",
            "\n",
            "Validation Accuracy: 0.9459\n",
            "\n",
            "Train Accuracy: 0.9685\n",
            "Number of Epoch = 2 - Average Cross Entropy:= 0.00130644287109375 \n",
            "\n",
            "Validation Accuracy: 0.9641\n",
            "\n",
            "Train Accuracy: 0.9714\n",
            "Number of Epoch = 3 - Average Cross Entropy:= 0.0009834788513183594 \n",
            "\n",
            "Validation Accuracy: 0.9643\n",
            "\n",
            "Train Accuracy: 0.9695\n",
            "Number of Epoch = 4 - Average Cross Entropy:= 0.0009344521331787109 \n",
            "\n",
            "Validation Accuracy: 0.9616\n",
            "\n",
            "Train Accuracy: 0.9769\n",
            "Number of Epoch = 5 - Average Cross Entropy:= 0.0008338370513916015 \n",
            "\n",
            "Validation Accuracy: 0.9690\n",
            "\n",
            "Train Accuracy: 0.9796\n",
            "Number of Epoch = 6 - Average Cross Entropy:= 0.0007471121978759765 \n",
            "\n",
            "Validation Accuracy: 0.9674\n",
            "\n",
            "Train Accuracy: 0.9809\n",
            "Number of Epoch = 7 - Average Cross Entropy:= 0.0006718559265136718 \n",
            "\n",
            "Validation Accuracy: 0.9666\n",
            "\n",
            "Train Accuracy: 0.9845\n",
            "Number of Epoch = 8 - Average Cross Entropy:= 0.0006217701721191407 \n",
            "\n",
            "Validation Accuracy: 0.9716\n",
            "\n",
            "Train Accuracy: 0.9833\n",
            "Number of Epoch = 9 - Average Cross Entropy:= 0.0005629736709594727 \n",
            "\n",
            "Validation Accuracy: 0.9689\n",
            "\n",
            "Train Accuracy: 0.9769\n",
            "Number of Epoch = 10 - Average Cross Entropy:= 0.0005753228378295899 \n",
            "\n",
            "Validation Accuracy: 0.9659\n",
            "\n",
            "Train Accuracy: 0.9842\n",
            "Number of Epoch = 11 - Average Cross Entropy:= 0.0005500457382202149 \n",
            "\n",
            "Validation Accuracy: 0.9703\n",
            "\n",
            "Train Accuracy: 0.9711\n",
            "Number of Epoch = 12 - Average Cross Entropy:= 0.0005888762283325196 \n",
            "\n",
            "Validation Accuracy: 0.9596\n",
            "\n",
            "Train Accuracy: 0.9859\n",
            "Number of Epoch = 13 - Average Cross Entropy:= 0.000534904556274414 \n",
            "\n",
            "Validation Accuracy: 0.9736\n",
            "\n",
            "Train Accuracy: 0.9858\n",
            "Number of Epoch = 14 - Average Cross Entropy:= 0.0004496326446533203 \n",
            "\n",
            "Validation Accuracy: 0.9695\n",
            "\n",
            "Train Accuracy: 0.9867\n",
            "Number of Epoch = 15 - Average Cross Entropy:= 0.00041855453491210936 \n",
            "\n",
            "Validation Accuracy: 0.9684\n",
            "\n",
            "Train Accuracy: 0.9900\n",
            "Number of Epoch = 16 - Average Cross Entropy:= 0.0004581023406982422 \n",
            "\n",
            "Validation Accuracy: 0.9741\n",
            "\n",
            "Train Accuracy: 0.9903\n",
            "Number of Epoch = 17 - Average Cross Entropy:= 0.0004270414352416992 \n",
            "\n",
            "Validation Accuracy: 0.9744\n",
            "\n",
            "Train Accuracy: 0.9856\n",
            "Number of Epoch = 18 - Average Cross Entropy:= 0.0006247563934326172 \n",
            "\n",
            "Validation Accuracy: 0.9705\n",
            "\n",
            "Train Accuracy: 0.9910\n",
            "Number of Epoch = 19 - Average Cross Entropy:= 0.00046890140533447267 \n",
            "\n",
            "Validation Accuracy: 0.9746\n",
            "\n",
            "Train Accuracy: 0.9901\n",
            "Number of Epoch = 20 - Average Cross Entropy:= 0.0003854582977294922 \n",
            "\n",
            "Validation Accuracy: 0.9725\n",
            "\n",
            "Total time taken (in seconds): 384.64\n"
          ]
        },
        {
          "output_type": "display_data",
          "data": {
            "image/png": "[encoded data removed]",
            "text/plain": [
              "<Figure size 432x288 with 1 Axes>"
            ]
          },
          "metadata": {
            "needs_background": "light"
          }
        }
      ],
      "source": [
        "# Set number of epochs\n",
        "NUM_EPOCHS = 20\n",
        "\n",
        "# Initialize model using CPU\n",
        "mlp_on_cpu = MLP(size_input, size_hidden1, size_hidden2, size_hidden3, size_output, device='gpu')\n",
        "\n",
        "time_start = time.time()\n",
        "\n",
        "for epoch in range(NUM_EPOCHS):\n",
        "    \n",
        "  loss_total = tf.zeros([1,1], dtype=tf.float32)\n",
        "  lt = 0\n",
        "    \n",
        "  train_ds = tf.data.Dataset.from_tensor_slices((X_train, y_train)).shuffle(25, seed=epoch*(my_seed)).batch(128)\n",
        "  kz = 0\n",
        "  accuracy_z = 0.0\n",
        "  cur_train_acc = 0.0\n",
        "  for inputs, outputs in train_ds:\n",
        "    qw, tr = tf.shape(inputs)\n",
        "    kz = kz + 1\n",
        "    preds = mlp_on_cpu.forward(inputs) \n",
        "    loss_total = loss_total + mlp_on_cpu.loss(preds, outputs)\n",
        "    lt = lt + mlp_on_cpu.loss(preds, outputs)\n",
        "    mlp_on_cpu.backward(inputs, outputs, 1) # here use 1, 2, 3, 4 for custom, sgd, rms, adam optimizers.\n",
        "\n",
        "  #print(\"LT : \", loss_total)\n",
        "  preds = mlp_on_cpu.forward(X_train)\n",
        "  # Get probs, remember we only have logits from our forward function, we need to apply softmax on top of it to get probs\n",
        "  preds = tf.nn.softmax(preds)\n",
        "  correct_prediction = tf.equal(tf.argmax(preds, 1), tf.argmax(y_train, 1))\n",
        "  accuracy_z = accuracy_z + tf.reduce_mean(tf.cast(correct_prediction, \"float\"))\n",
        "  cur_train_acc += accuracy_z.numpy()\n",
        "  ds = cur_train_acc\n",
        "  print('\\nTrain Accuracy: {:.4f}'.format(ds))\n",
        "  print('Number of Epoch = {} - Average Cross Entropy:= {} '.format(epoch + 1, np.sum(loss_total) / X_train.shape[0]))\n",
        "  preds_val = mlp_on_cpu.forward(X_val)\n",
        "  preds_val = tf.nn.softmax(preds_val)\n",
        "  correct_prediction = tf.equal(tf.argmax(preds_val, 1), tf.argmax(y_val, 1))\n",
        "\n",
        "  # Calculate accuracy\n",
        "  accuracy = tf.reduce_mean(tf.cast(correct_prediction, \"float\"))\n",
        "  cur_val_acc = accuracy.numpy()\n",
        "\n",
        "  print('\\nValidation Accuracy: {:.4f}'.format(cur_val_acc))\n",
        "  \n",
        "  plt.plot(epoch + 1, np.sum(loss_total) / X_train.shape[0], 'go')\n",
        "\n",
        "        \n",
        "time_taken = time.time() - time_start\n",
        "    \n",
        "# Validate model\n",
        "    \n",
        "\n",
        "\n",
        "print('\\nTotal time taken (in seconds): {:.2f}'.format(time_taken))\n",
        "#For per epoch_time = Total_Time / Number_of_epochs\n"
      ]
    },
    {
      "cell_type": "code",
      "execution_count": 9,
      "metadata": {
        "id": "8eNKeELWCX6_",
        "outputId": "81dad601-96e6-4124-c429-8c6027979f94",
        "colab": {
          "base_uri": "https://localhost:8080/"
        }
      },
      "outputs": [
        {
          "output_type": "stream",
          "name": "stdout",
          "text": [
            "Test loss: 0.0402\n",
            "\n",
            "Test Accuracy: 0.97\n"
          ]
        }
      ],
      "source": [
        "# Initialize\n",
        "test_loss_total = tf.Variable(0, dtype=tf.float32)\n",
        "correct_prediction = tf.Variable(0, dtype=tf.float32)\n",
        "\n",
        "\n",
        "test_ds = tf.data.Dataset.from_tensor_slices((X_test, y_test)).batch(4)\n",
        "\n",
        "\n",
        "#test_loss_total = 0.0\n",
        "for inputs, outputs in test_ds:\n",
        "    preds = mlp_on_cpu.forward(inputs, False)\n",
        "    test_loss_total = test_loss_total + mlp_on_cpu.loss(preds, outputs)\n",
        "print('Test loss: {:.4f}'.format(np.sum(test_loss_total.numpy()) / X_test.shape[0]))\n",
        "\n",
        "# Test model\n",
        "preds_test = mlp_on_cpu.forward(X_test, False)\n",
        "preds_test = tf.nn.softmax(preds_test)\n",
        "correct_prediction = tf.equal(tf.argmax(preds_test, 1), tf.argmax(y_test, 1))\n",
        "\n",
        "# Calculate accuracy\n",
        "accuracy = tf.reduce_mean(tf.cast(correct_prediction, \"float\"))\n",
        "cur_test_acc = accuracy.numpy()\n",
        "print('\\nTest Accuracy: {:.2f}'.format(cur_test_acc))"
      ]
    },
    {
      "cell_type": "raw",
      "metadata": {
        "id": "5DRomYsUCX6_"
      },
      "source": [
        ""
      ]
    }
  ],
  "metadata": {
    "kernelspec": {
      "display_name": "Python 3",
      "language": "python",
      "name": "python3"
    },
    "language_info": {
      "codemirror_mode": {
        "name": "ipython",
        "version": 3
      },
      "file_extension": ".py",
      "mimetype": "text/x-python",
      "name": "python",
      "nbconvert_exporter": "python",
      "pygments_lexer": "ipython3",
      "version": "3.7.9"
    },
    "colab": {
      "name": "HW_00100_IST597_Ajay.ipynb",
      "provenance": [],
      "collapsed_sections": []
    }
  },
  "nbformat": 4,
  "nbformat_minor": 0
}